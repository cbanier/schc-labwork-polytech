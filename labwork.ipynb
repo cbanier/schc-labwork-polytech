{
 "cells": [
  {
   "cell_type": "markdown",
   "metadata": {},
   "source": [
    "# Lab work on Static Context Header Compression (SCHC)\n",
    "\n",
    "This is part of the material for the lecture given at Polytech' Grenoble on IoT Networks by Quentin Lampin, PhD.\n",
    "This labwork is both a crash-course on the Static Context Header Compression (SCHC) protocol and a hands-on session. \n",
    "\n",
    "The following is the hands-on session which covers: \n",
    "\n",
    "- the analysis of a traffic capture between a CoAP client and server using IPv6.\n",
    "- the creation of Compression/Decompression rules for this traffic.\n",
    "- the evaluation of rules built by students using usual Compression metrics.\n",
    "- the study of the underlying trade-offs of building Compression/Decompression rules, including a discussion on rule generalization, rules count and memory. \n",
    "\n",
    "\n",
    "## Pre-requisites\n",
    "\n",
    "Students are assumed to have installed Wireshark, a working 3.11 Python interpreter and the packages listed in `requirements.txt`\n"
   ]
  },
  {
   "cell_type": "markdown",
   "metadata": {},
   "source": [
    "## Pre-flight checklist - 5 mins\n",
    "\n",
    "**directions**\n",
    "\n",
    "Run the following Jupyter notebook cell, report any error that might occur."
   ]
  },
  {
   "cell_type": "code",
   "execution_count": null,
   "metadata": {},
   "outputs": [],
   "source": [
    "import pcapng\n",
    "import microschc"
   ]
  },
  {
   "cell_type": "markdown",
   "metadata": {},
   "source": [
    "## A look into the dataset - 15 mins\n",
    "\n",
    "**directions**\n",
    "\n",
    "Using Wireshark, open the dataset file: [`leshan-thermostat-readings.pcapng`](./dataset/leshan-thermostat-readings.pcapng) and answer the following questions."
   ]
  },
  {
   "cell_type": "markdown",
   "metadata": {},
   "source": [
    "- How many SCHC contexts?"
   ]
  },
  {
   "cell_type": "markdown",
   "metadata": {},
   "source": []
  },
  {
   "cell_type": "markdown",
   "metadata": {},
   "source": [
    "- How many SCHC templates?"
   ]
  },
  {
   "cell_type": "markdown",
   "metadata": {},
   "source": []
  },
  {
   "cell_type": "markdown",
   "metadata": {},
   "source": [
    "- What does each SCHC template correspond to?"
   ]
  },
  {
   "cell_type": "markdown",
   "metadata": {},
   "source": []
  },
  {
   "cell_type": "markdown",
   "metadata": {},
   "source": [
    "- How many SCHC rules are necessary to compress all the packets of the dataset?\n"
   ]
  },
  {
   "cell_type": "markdown",
   "metadata": {},
   "source": []
  },
  {
   "cell_type": "markdown",
   "metadata": {},
   "source": [
    "- For each template, list all constant fields"
   ]
  },
  {
   "cell_type": "markdown",
   "metadata": {},
   "source": []
  },
  {
   "cell_type": "markdown",
   "metadata": {},
   "source": [
    "- What combination of Matching Operator and Compression/Decompression Action corresponds best to constant fields?"
   ]
  },
  {
   "cell_type": "markdown",
   "metadata": {},
   "source": []
  },
  {
   "cell_type": "markdown",
   "metadata": {},
   "source": [
    "## Writing your own SCHC ruleset\n",
    "\n",
    "microSCHC is a (micro)Python library that implements Compression and Decompression (C/D) functions of the SCHC protocol.\n",
    "\n",
    "In the following part, you will write and evaluate SCHC C/D rules for a CoAP over UDP over IPv6 traffic, which is provided as a PCAPng capture file.\n",
    "\n",
    "**directions**\n",
    "\n",
    "Open the dataset and list packets contained within. (5mins)\n",
    "\n",
    "**hints**\n",
    "\n",
    "`tools.dataset` contains a helper function to open the dataset and list packets as `Buffer` items. "
   ]
  },
  {
   "cell_type": "code",
   "execution_count": null,
   "metadata": {},
   "outputs": [],
   "source": []
  },
  {
   "cell_type": "markdown",
   "metadata": {},
   "source": [
    "\n",
    "microSCHC provides parsers (`PacketParser`) for IPv6, UDP and CoAP protocols that provide descriptions of packets (`PacketDescriptor`).\n",
    "\n",
    "A `PacketDescriptor` includes a list of `FieldDescriptor` which provide an overview of the packets fields, most notably field IDs and field lengths.\n",
    "\n",
    "**Directions**: \n",
    "\n",
    "In the following cell, \n",
    "\n",
    "- instantiate a packet parser for the stack IPv6/UDP/CoAP and parse the packets of the dataset. (5mins)\n",
    "- parse the dataset (5mins)\n",
    "\n",
    "**hints**:\n",
    "\n",
    "- Relevant microSCHC packets are `microschc.protocol.registry` and `microschc.parser`.\n",
    "- `tools.packet` contains a helper function for printing packet descriptors.\n"
   ]
  },
  {
   "cell_type": "code",
   "execution_count": null,
   "metadata": {},
   "outputs": [],
   "source": []
  },
  {
   "cell_type": "markdown",
   "metadata": {},
   "source": [
    "C/D rules are composed of Rule Field Descriptors. To be eligible for compression, every field of the parsed packet has to be matched to a field descriptor of the C/D rule.\n",
    "It is therefore sensible to group packets with the same structure (template) before addressing them with C/D rules.\n",
    "\n",
    "**directions**\n",
    "\n",
    "- List packets templates of the dataset (5mins)\n",
    "- print their structure (5mins)\n",
    "\n",
    "**hints**\n",
    "\n",
    "- `find_templates` in `tools.template` is your friend ;)\n",
    "- `template_as_asciitable` in `tools.template` can be useful to print the templates."
   ]
  },
  {
   "cell_type": "code",
   "execution_count": null,
   "metadata": {},
   "outputs": [],
   "source": []
  },
  {
   "cell_type": "markdown",
   "metadata": {},
   "source": [
    "Packets within the same template share the same structure, i.e. same fields in the same order, but one field may have different values from one packet to another.\n",
    "As a first step, one can write a rule that compresses all constant fields for a given template. \n",
    "\n",
    "\n",
    "**directions**\n",
    "\n",
    "- find all constant fields of the first template (#0) (10 mins)\n",
    "- print them (42 sec)\n",
    "- find all variable fields fo the first template (2mins)\n",
    "- print them (42s)\n",
    "\n",
    "\n",
    "**hints**\n",
    "\n",
    "- `enumerate` is a nifty function that enumerate items of a list, providing the index of each element\n",
    "- a `set` is a practical data structure to store unique values\n",
    "- `filter` provides an elegant way to filter elements of an iterable \n",
    "- `fields_as_asciitable` in `tools.field` can be used to print fields"
   ]
  },
  {
   "cell_type": "code",
   "execution_count": null,
   "metadata": {},
   "outputs": [],
   "source": []
  },
  {
   "cell_type": "markdown",
   "metadata": {},
   "source": [
    "A SCHC C/D Rule is made of a list of field descriptors. a field descriptor has 4 main components: the Field ID (FID), the Matching Operator (MO), the Compression Decompression Action (CDA) and the Target Value (TV).\n",
    "\n",
    "The FID corresponds to the Field Id of the field to compress, the MO indicates which packets can be compressed, the CDA tells how packets are compressed and the TV provides parameters to the CDA.\n",
    "\n",
    "According to your knowledge, which MO/CDA couple should be used for constant fields?"
   ]
  },
  {
   "cell_type": "markdown",
   "metadata": {},
   "source": []
  },
  {
   "cell_type": "markdown",
   "metadata": {},
   "source": [
    "Using microschc, create a rule matching the packet structure of template #0 that compresses every constant field.\n",
    "\n",
    "** directions **\n",
    "\n",
    "- import the fields definitions for IPv6, UDP and CoAP\n",
    "\n",
    "** hints **\n",
    "\n",
    "- protocol definitions are located in the `microschc.protocol` package\n",
    "- rule field descriptor and rule descriptor are defined `microschc.rfc8724`"
   ]
  },
  {
   "cell_type": "code",
   "execution_count": null,
   "metadata": {},
   "outputs": [],
   "source": []
  },
  {
   "cell_type": "markdown",
   "metadata": {},
   "source": [
    "To produce a minimum SCHC Context, we need to add the no-compression rule, a rule that tells the residue is not compressed.\n",
    "\n",
    "A no-compression rule is only defined by its nature and a Rule ID.\n",
    "\n",
    "**directions**\n",
    "\n",
    "create a SCHC context with your previous rule and the no-compression rule.\n",
    "\n",
    "**hints**\n",
    "\n",
    "- a no-compression rule is defined using:\n",
    "```\n",
    "no_compression_rule_descriptor: RuleDescriptor = RuleDescriptor(id=Buffer(content=b'\\xXX', length=Y), nature=RuleNature.NO_COMPRESSION)\n",
    "```\n",
    "\n",
    "- the SCHC context is defined in the  `microschc.rfc8724extras` package\n",
    "\n"
   ]
  },
  {
   "cell_type": "code",
   "execution_count": null,
   "metadata": {},
   "outputs": [],
   "source": []
  },
  {
   "cell_type": "markdown",
   "metadata": {},
   "source": [
    "## Evaluating your SCHC rulesset\n",
    "\n",
    "Now is time to evaluate your first ruleset. \n",
    "\n",
    "**directions**\n",
    "\n",
    "- evaluate your ruleset against the dataset\n",
    "- print Compression Factor (CF) statistics for your ruleset\n",
    "\n",
    "**hints**\n",
    "\n",
    "- the `tools.context` package contains a function to evaluate the context, in case you're running out of time.\n",
    "\n"
   ]
  },
  {
   "cell_type": "code",
   "execution_count": null,
   "metadata": {},
   "outputs": [],
   "source": []
  },
  {
   "cell_type": "markdown",
   "metadata": {},
   "source": [
    "## Going Further with SCHC\n",
    "\n",
    "From now on, you can choose between the following instructions:\n",
    "\n",
    "- augment your ruleset to address packets from the other templates\n",
    "- improve your compression rule to address fields with few values (Match-Mapping)\n",
    "- investigate MSB/LSB MO/CDA application\n"
   ]
  },
  {
   "cell_type": "code",
   "execution_count": null,
   "metadata": {},
   "outputs": [],
   "source": []
  }
 ],
 "metadata": {
  "kernelspec": {
   "display_name": "schc-labwork",
   "language": "python",
   "name": "python3"
  },
  "language_info": {
   "codemirror_mode": {
    "name": "ipython",
    "version": 3
   },
   "file_extension": ".py",
   "mimetype": "text/x-python",
   "name": "python",
   "nbconvert_exporter": "python",
   "pygments_lexer": "ipython3",
   "version": "3.11.5"
  }
 },
 "nbformat": 4,
 "nbformat_minor": 2
}
