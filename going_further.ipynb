{
 "cells": [
  {
   "cell_type": "markdown",
   "metadata": {},
   "source": [
    "# Imports and fundamentals"
   ]
  },
  {
   "cell_type": "code",
   "execution_count": 1,
   "metadata": {},
   "outputs": [],
   "source": [
    "from math import log2, ceil\n",
    "from typing import List, Set, Tuple\n",
    "\n",
    "from microschc.binary import Buffer\n",
    "from microschc.protocol.registry import factory, Stack, PacketParser\n",
    "from microschc.rfc8724 import PacketDescriptor\n",
    "\n",
    "from tools.dataset import packets_list\n",
    "from tools.template import find_templates, Template\n",
    "\n",
    "all_packets: List[Buffer] = packets_list(\"./dataset/leshan-thermostat-readings.pcapng\")\n",
    "\n",
    "packets_parser_obj: PacketParser = factory(Stack.IPV6_UDP_COAP)\n",
    "packets_descriptors: List[PacketDescriptor] = [packets_parser_obj.parse(pkt) for pkt in all_packets]\n",
    "\n",
    "all_templates: List[Template] = find_templates(all_packets, packets_parser_obj)"
   ]
  },
  {
   "cell_type": "code",
   "execution_count": 2,
   "metadata": {},
   "outputs": [],
   "source": [
    "from tools.field import fields_as_asciitable\n",
    "\n",
    "# Filter template's fields from constant and variable\n",
    "def filter_fields(template: Template) -> List[Tuple[int, str, Set[Buffer]]]:\n",
    "    template_fields_values: List[Tuple[int, str, Set[Buffer]]] = [(i, field.id.value, set()) for i, field in enumerate(template.fields)]\n",
    "\n",
    "    for pkt in template.packets:\n",
    "        for i, field in enumerate(pkt.fields):\n",
    "            template_fields_values[i][-1].add(field.value)\n",
    "\n",
    "    return template_fields_values\n",
    "\n",
    "def display_filtered_fields(template_fields_values: List[Tuple[int, str, Set[Buffer]]]) -> None:\n",
    "    print(f\"Constant fields :\\n{fields_as_asciitable(list(filter(lambda t: len(t[-1]) == 1, template_fields_values)))}\")\n",
    "    print(f\"Variable fields :\\n{fields_as_asciitable(list(filter(lambda t: len(t[-1]) > 1, template_fields_values)))}\\n\")\n",
    "    return None"
   ]
  },
  {
   "cell_type": "code",
   "execution_count": 3,
   "metadata": {},
   "outputs": [
    {
     "name": "stdout",
     "output_type": "stream",
     "text": [
      "Constant fields :\n",
      "+------------------------------+-------------------------------------------+\n",
      "|           field ID           |                   value                   |\n",
      "+==============================+===========================================+\n",
      "| 0 - IPv6:Version             | {[----0110 ](4)}                          |\n",
      "+------------------------------+-------------------------------------------+\n",
      "| 1 - IPv6:Traffic Class       | {[00000000](8)}                           |\n",
      "+------------------------------+-------------------------------------------+\n",
      "| 2 - IPv6:Flow Label          | {[0ff85f](20)}                            |\n",
      "+------------------------------+-------------------------------------------+\n",
      "| 4 - IPv6:Next Header         | {[00010001](8)}                           |\n",
      "+------------------------------+-------------------------------------------+\n",
      "| 5 - IPv6:Hop Limit           | {[01000000](8)}                           |\n",
      "+------------------------------+-------------------------------------------+\n",
      "| 6 - IPv6:Source Address      | {[20010db8000a00000000000000000003](128)} |\n",
      "+------------------------------+-------------------------------------------+\n",
      "| 7 - IPv6:Destination Address | {[20010db8000a00000000000000000020](128)} |\n",
      "+------------------------------+-------------------------------------------+\n",
      "| 8 - UDP:Source Port          | {[10010000 10100000](16)}                 |\n",
      "+------------------------------+-------------------------------------------+\n",
      "| 9 - UDP:Destination Port     | {[00010110 00110011](16)}                 |\n",
      "+------------------------------+-------------------------------------------+\n",
      "| 12 - CoAP:Version            | {[------01 ](2)}                          |\n",
      "+------------------------------+-------------------------------------------+\n",
      "| 14 - CoAP:Token Length       | {[----0010 ](4)}                          |\n",
      "+------------------------------+-------------------------------------------+\n",
      "| 15 - CoAP:Code               | {[01000101](8)}                           |\n",
      "+------------------------------+-------------------------------------------+\n",
      "| 18 - CoAP:Option Delta       | {[----0110 ](4)}                          |\n",
      "+------------------------------+-------------------------------------------+\n",
      "| 21 - CoAP:Option Delta       | {[----0110 ](4)}                          |\n",
      "+------------------------------+-------------------------------------------+\n",
      "| 24 - CoAP:Payload Marker     | {[11111111](8)}                           |\n",
      "+------------------------------+-------------------------------------------+\n",
      "Variable fields :\n",
      "+-------------------------+---------------------------------------------------------------------------------------------------------------------------------------------------------------------------------------------------------------------+\n",
      "|        field ID         |                                                                                                        value                                                                                                        |\n",
      "+=========================+=====================================================================================================================================================================================================================+\n",
      "| 3 - IPv6:Payload Length | [[00000000 00010110](16), [00000000 00011100](16), [00000000 00011101](16), [00000000 00100001](16), [00000000 00100000](16), [00000000 00011001](16), [00000000 00010111](16)] ... (7)                             |\n",
      "+-------------------------+---------------------------------------------------------------------------------------------------------------------------------------------------------------------------------------------------------------------+\n",
      "| 10 - UDP:Length         | [[00000000 00010110](16), [00000000 00011100](16), [00000000 00011101](16), [00000000 00100001](16), [00000000 00100000](16), [00000000 00011001](16), [00000000 00010111](16)] ... (7)                             |\n",
      "+-------------------------+---------------------------------------------------------------------------------------------------------------------------------------------------------------------------------------------------------------------+\n",
      "| 11 - UDP:Checksum       | [[00101001 01110110](16), [01101010 00011001](16), [01111110 01110010](16), [11001110 11001111](16), [01111011 10111001](16), [10010111 11101000](16), [10011010 10000000](16), [11001111 01111100](16)] ... (8009) |\n",
      "+-------------------------+---------------------------------------------------------------------------------------------------------------------------------------------------------------------------------------------------------------------+\n",
      "| 13 - CoAP:Type          | {[------01 ](2), [------00 ](2)}                                                                                                                                                                                    |\n",
      "+-------------------------+---------------------------------------------------------------------------------------------------------------------------------------------------------------------------------------------------------------------+\n",
      "| 16 - CoAP:Message ID    | [[00101001 01110110](16), [00110011 11100110](16), [00010110 10101011](16), [00110100 00100101](16), [00110011 01101010](16), [00101101 00001001](16), [00011011 00111001](16), [00100000 11101001](16)] ... (8543) |\n",
      "+-------------------------+---------------------------------------------------------------------------------------------------------------------------------------------------------------------------------------------------------------------+\n",
      "| 17 - CoAP:Token         | [[11010001 01011001](16), [10110111 00100101](16), [10001101 01000011](16), [00110111 00001001](16), [00100001 01010000](16), [00011111 00001010](16)] ... (6)                                                      |\n",
      "+-------------------------+---------------------------------------------------------------------------------------------------------------------------------------------------------------------------------------------------------------------+\n",
      "| 19 - CoAP:Option Length | {[----0001 ](4), [----0010 ](4)}                                                                                                                                                                                    |\n",
      "+-------------------------+---------------------------------------------------------------------------------------------------------------------------------------------------------------------------------------------------------------------+\n",
      "| 20 - CoAP:Option Value  | [[00010010 01101101](16), [00100001 01010010](16), [00000110 11101000](16), [00010000 00111100](16), [00010000 01111110](16), [00010100 11111110](16), [00010100 00101001](16), [00010010 00101000](16)] ... (2951) |\n",
      "+-------------------------+---------------------------------------------------------------------------------------------------------------------------------------------------------------------------------------------------------------------+\n",
      "| 22 - CoAP:Option Length | {[----0001 ](4), [----0010 ](4)}                                                                                                                                                                                    |\n",
      "+-------------------------+---------------------------------------------------------------------------------------------------------------------------------------------------------------------------------------------------------------------+\n",
      "| 23 - CoAP:Option Value  | {[00111100](8), [00101101 00010110](16)}                                                                                                                                                                            |\n",
      "+-------------------------+---------------------------------------------------------------------------------------------------------------------------------------------------------------------------------------------------------------------+\n",
      "\n"
     ]
    }
   ],
   "source": [
    "display_filtered_fields(template_fields_values=filter_fields(template=all_templates[0]))"
   ]
  },
  {
   "cell_type": "markdown",
   "metadata": {},
   "source": [
    "### Rule from template function"
   ]
  },
  {
   "cell_type": "code",
   "execution_count": 4,
   "metadata": {},
   "outputs": [],
   "source": [
    "from os.path import commonprefix\n",
    "\n",
    "from tools.rule import rule_descriptor_as_asciitable\n",
    "\n",
    "from microschc.rfc8724 import RuleDescriptor, RuleFieldDescriptor, Mapping, MatchMapping, DI, MO, CDA\n",
    "from microschc.binary.buffer import Padding\n",
    "\n",
    "def create_compression_rule_template(template: Template, rule_ID: bytes, mapping_indexes: List[int] = [], msb_lsb_indexes: List[int] = [], rule_length: int = 4, debug: bool = False) -> RuleDescriptor:\n",
    "    template_fields_values: List[Tuple[int, str, Set[Buffer]]] = filter_fields(template=template)\n",
    "\n",
    "    rule_details_by_field: List[RuleFieldDescriptor] = []\n",
    "    for field_info in template_fields_values:\n",
    "        field_index, field_id, field_buffer_set = field_info\n",
    "        \n",
    "        # Constant\n",
    "        if len(field_buffer_set) == 1:\n",
    "            field_value: Buffer = field_buffer_set.pop()\n",
    "            rule_field_descriptor: RuleFieldDescriptor = RuleFieldDescriptor(\n",
    "                id=field_id, \n",
    "                length=field_value.length, \n",
    "                position=0,\n",
    "                direction=DI.BIDIRECTIONAL, \n",
    "                target_value=field_value, \n",
    "                matching_operator=MO.EQUAL,\n",
    "                compression_decompression_action=CDA.NOT_SENT\n",
    "            )\n",
    "            \n",
    "        # Variable\n",
    "        else:\n",
    "            if debug:\n",
    "                print(f\"DEBUG : {field_index} : {field_id} -> Card = {len(field_buffer_set)}\\n{field_buffer_set}\\n\")\n",
    "            \n",
    "            # Check if (IPv6 or UDP) Field Length or UDP Checksum\n",
    "            if field_index in [3, 10, 11]:\n",
    "                rule_field_descriptor: RuleFieldDescriptor = RuleFieldDescriptor(\n",
    "                    id=field_id, \n",
    "                    length=0, \n",
    "                    position=0,\n",
    "                    direction=DI.BIDIRECTIONAL, \n",
    "                    target_value=Buffer(content=b'', length=0, padding=Padding.LEFT), \n",
    "                    matching_operator=MO.IGNORE,\n",
    "                    compression_decompression_action=CDA.COMPUTE\n",
    "                )\n",
    "\n",
    "            # MSB / LSB\n",
    "            elif field_index in msb_lsb_indexes:\n",
    "                hex_contents: List[str] = [hex(field_buffer.value())[2:] for field_buffer in list(field_buffer_set)]\n",
    "\n",
    "                if len(common_part := commonprefix(hex_contents)) % 2 != 0:\n",
    "                    common_part = common_part[:-1]\n",
    "\n",
    "                rule_field_descriptor: RuleFieldDescriptor = RuleFieldDescriptor(\n",
    "                    id=field_id, \n",
    "                    length=list(field_buffer_set)[0].length, \n",
    "                    position=0,\n",
    "                    direction=DI.BIDIRECTIONAL, \n",
    "                    target_value=Buffer(content=bytes.fromhex(common_part), length=8*len(bytes.fromhex(common_part))),\n",
    "                    matching_operator=MO.MSB,\n",
    "                    compression_decompression_action=CDA.LSB\n",
    "                )\n",
    "            \n",
    "            # Match-mapping / Mapping-sent\n",
    "            elif field_index in mapping_indexes:\n",
    "                maximum_field_bits: int = ceil(log2(len(field_buffer_set)))\n",
    "                content_bytes: bytes = b\"\\x00\"\n",
    "                bytes_mapping: Mapping = {}\n",
    "                \n",
    "                for value in list(field_buffer_set):\n",
    "                    _tmp_c_b: int = int.from_bytes(content_bytes, byteorder=\"big\") + 1\n",
    "                    content_bytes = _tmp_c_b.to_bytes(len(content_bytes), byteorder=\"big\")\n",
    "                    bytes_mapping[value] = Buffer(content=content_bytes, length=maximum_field_bits)\n",
    "\n",
    "                rule_field_descriptor: RuleFieldDescriptor = RuleFieldDescriptor(\n",
    "                    id=field_id, \n",
    "                    length=list(field_buffer_set)[0].length, \n",
    "                    position=0,\n",
    "                    direction=DI.BIDIRECTIONAL, \n",
    "                    target_value=MatchMapping(forward_mapping=bytes_mapping), \n",
    "                    matching_operator=MO.MATCH_MAPPING,\n",
    "                    compression_decompression_action=CDA.MAPPING_SENT\n",
    "                )\n",
    "\n",
    "            else:\n",
    "                rule_field_descriptor: RuleFieldDescriptor = RuleFieldDescriptor(\n",
    "                    id=field_id, \n",
    "                    length=0, \n",
    "                    position=0,\n",
    "                    direction=DI.BIDIRECTIONAL, \n",
    "                    target_value=Buffer(content=b'', length=0, padding=Padding.LEFT), \n",
    "                    matching_operator=MO.IGNORE,\n",
    "                    compression_decompression_action=CDA.VALUE_SENT\n",
    "                )\n",
    "        \n",
    "        rule_details_by_field.append(rule_field_descriptor)\n",
    "\n",
    "    rule: RuleDescriptor = RuleDescriptor(id=Buffer(content=rule_ID, length=rule_length), field_descriptors=rule_details_by_field)\n",
    "\n",
    "    if debug:\n",
    "        print(rule_descriptor_as_asciitable(rule))\n",
    "    \n",
    "    return rule"
   ]
  },
  {
   "cell_type": "markdown",
   "metadata": {},
   "source": [
    "### Template 0"
   ]
  },
  {
   "cell_type": "code",
   "execution_count": 5,
   "metadata": {},
   "outputs": [],
   "source": [
    "\"\"\" \n",
    "Create compression rule for template 0\n",
    "\n",
    "Description :\n",
    " - 2001:db8::3 -> 2001:db8::20 \n",
    " - CoAP non-confirmable and confirmable (2.00 and 2.01), \n",
    " - LwM2M notifications (resource ID 5700)\n",
    "\"\"\"\n",
    "\n",
    "rule_template_0: RuleDescriptor = create_compression_rule_template(\n",
    "    template=all_templates[0], \n",
    "    rule_ID=b\"\\x00\",\n",
    "    mapping_indexes=[13, 17, 19, 22, 23], \n",
    "    msb_lsb_indexes=[16],   # With 20 -> hits 8334 / 8543 and CF = 4.462 \n",
    "                            # Without 20 -> hits 8543 / 8543 and CF = 4.435\n",
    "    debug=False\n",
    ")"
   ]
  },
  {
   "cell_type": "markdown",
   "metadata": {},
   "source": [
    "### Template 1"
   ]
  },
  {
   "cell_type": "code",
   "execution_count": 6,
   "metadata": {},
   "outputs": [],
   "source": [
    "\"\"\" \n",
    "Create compression rule for template 1\n",
    "\n",
    "Description :\n",
    " - 2001:db8::3 -> 2001:db8::20\n",
    " - CoAP non-confirmable and confirmable (2.00 and 2,91)\n",
    " - CBOR notifications\n",
    " - token 1f0a\n",
    "\"\"\"\n",
    "\n",
    "rule_template_1: RuleDescriptor = create_compression_rule_template(\n",
    "    template=all_templates[1], \n",
    "    rule_ID=b\"\\x01\", \n",
    "    mapping_indexes=[2, 6, 7, 8, 9],\n",
    "    msb_lsb_indexes=[16, 17], \n",
    "    debug=False\n",
    ")"
   ]
  },
  {
   "cell_type": "markdown",
   "metadata": {},
   "source": [
    "### Template 2"
   ]
  },
  {
   "cell_type": "code",
   "execution_count": 7,
   "metadata": {},
   "outputs": [],
   "source": [
    "\"\"\" \n",
    "Create compression rule for template 2\n",
    "\n",
    "Description :\n",
    " - 2001:db8::20 -> 2001:db8::3\n",
    " - ACK (no CoAP Token)\n",
    "\"\"\"\n",
    "\n",
    "rule_template_2: RuleDescriptor = create_compression_rule_template(\n",
    "    template=all_templates[2], \n",
    "    rule_ID=b\"\\x02\",\n",
    "    mapping_indexes=[20],\n",
    "    msb_lsb_indexes=[16, 17], \n",
    "    debug=False\n",
    ")"
   ]
  },
  {
   "cell_type": "markdown",
   "metadata": {},
   "source": [
    "### Template 3"
   ]
  },
  {
   "cell_type": "code",
   "execution_count": 8,
   "metadata": {},
   "outputs": [],
   "source": [
    "\"\"\" \n",
    "Create compression rule for template 3\n",
    "\n",
    "Description :\n",
    " - 2001:db8::20 -> 2001:db8::3 \n",
    " - CoAP POST --> reset min/max measured values (resource ID 5605)\n",
    "\"\"\"\n",
    "\n",
    "rule_template_3: RuleDescriptor = create_compression_rule_template(\n",
    "    template=all_templates[3], \n",
    "    rule_ID=b\"\\x03\",\n",
    "    mapping_indexes=[],\n",
    "    msb_lsb_indexes=[16], \n",
    "    debug=False\n",
    ")"
   ]
  },
  {
   "cell_type": "markdown",
   "metadata": {},
   "source": [
    "### Template 4"
   ]
  },
  {
   "cell_type": "code",
   "execution_count": 9,
   "metadata": {},
   "outputs": [],
   "source": [
    "\"\"\" \n",
    "Create compression rule for template 4\n",
    "\n",
    "Description :\n",
    " - 2001:db8::3 -> 2001:db8::20\n",
    " - ACK (with CoAP Token, CoAP code 2.04)\n",
    "\"\"\"\n",
    "\n",
    "rule_template_4: RuleDescriptor = create_compression_rule_template(\n",
    "    template=all_templates[4], \n",
    "    rule_ID=b\"\\x04\", \n",
    "    msb_lsb_indexes=[16, 17], \n",
    "    debug=False\n",
    ")"
   ]
  },
  {
   "cell_type": "markdown",
   "metadata": {},
   "source": [
    "### Template 5"
   ]
  },
  {
   "cell_type": "code",
   "execution_count": 10,
   "metadata": {},
   "outputs": [],
   "source": [
    "\"\"\" \n",
    "Create compression rule for template 5\n",
    "\n",
    "Description :\n",
    " - 2001:db8::3 -> 2001:db8::20\n",
    " - ACK (with CoAP Token, CoAP code 2.04)\n",
    "\"\"\"\n",
    "\n",
    "rule_template_5: RuleDescriptor = create_compression_rule_template(\n",
    "    template=all_templates[5], \n",
    "    msb_lsb_indexes=[16, 17], \n",
    "    rule_ID=b\"\\x05\", \n",
    "    debug=False\n",
    ")"
   ]
  },
  {
   "cell_type": "markdown",
   "metadata": {},
   "source": [
    "### SCHC Context"
   ]
  },
  {
   "cell_type": "code",
   "execution_count": 11,
   "metadata": {},
   "outputs": [
    {
     "name": "stdout",
     "output_type": "stream",
     "text": [
      "id:Orange description:Context corresponding to leshan-thermostat-readings.pcapng dataset. interface_id: none parser_id: IPv6-UDP-CoAP rules: 7\n",
      "+-----+----------+-------+--------+---------+--------------+----------------+---------+---------+\n",
      "| ID  | template | hits  |   CF   |  CFOC   | compressible | incompressible |  total  | residue |\n",
      "+=====+==========+=======+========+=========+==============+================+=========+=========+\n",
      "| 0   | 0        | 8543  | 4.074  | 8.887   | 4146168      | 730632         | 4876800 | 1197153 |\n",
      "+-----+----------+-------+--------+---------+--------------+----------------+---------+---------+\n",
      "| 1   | 1        | 592   | 10.537 | 10.537  | 255744       | 0              | 255744  | 24272   |\n",
      "+-----+----------+-------+--------+---------+--------------+----------------+---------+---------+\n",
      "| 2   | 2        | 380   | 14.270 | 14.270  | 200640       | 0              | 200640  | 14060   |\n",
      "+-----+----------+-------+--------+---------+--------------+----------------+---------+---------+\n",
      "| 3   | 3        | 273   | 20.800 | 20.800  | 113568       | 0              | 113568  | 5460    |\n",
      "+-----+----------+-------+--------+---------+--------------+----------------+---------+---------+\n",
      "| 4   | 4        | 111   | 15.111 | 15.111  | 60384        | 0              | 60384   | 3996    |\n",
      "+-----+----------+-------+--------+---------+--------------+----------------+---------+---------+\n",
      "| 5   | 5        | 101   | 5.778  | 15.333  | 55752        | 7272           | 63024   | 10908   |\n",
      "+-----+----------+-------+--------+---------+--------------+----------------+---------+---------+\n",
      "| 6   | 6        | 0     | 0      | 0       | 0            | 0              | 0       | 0       |\n",
      "+-----+----------+-------+--------+---------+--------------+----------------+---------+---------+\n",
      "| all | 10000    | 4.435 | 9.330  | 4832256 | 737904       | 5570160        | 1255849 | N/A     |\n",
      "+-----+----------+-------+--------+---------+--------------+----------------+---------+---------+\n"
     ]
    }
   ],
   "source": [
    "from tools.context import ContextStatistics, evaluate, context_statistics_as_ascii_table\n",
    "\n",
    "from microschc.rfc8724 import RuleNature\n",
    "from microschc.rfc8724extras import Context\n",
    "from microschc.manager import MatchStrategy\n",
    "\n",
    "no_compression_rule_descriptor: RuleDescriptor = RuleDescriptor(id=Buffer(content=b'\\x06', length=4), nature=RuleNature.NO_COMPRESSION)\n",
    "\n",
    "rule_descriptors: List[RuleDescriptor] = [\n",
    "    rule_template_0,\n",
    "    rule_template_1,\n",
    "    rule_template_2,\n",
    "    rule_template_3,\n",
    "    rule_template_4,\n",
    "    rule_template_5,\n",
    "    no_compression_rule_descriptor\n",
    "]\n",
    "\n",
    "schc_context: Context = Context(\n",
    "    id='Orange',\n",
    "    description='Context corresponding to leshan-thermostat-readings.pcapng dataset.',\n",
    "    interface_id='none',\n",
    "    ruleset=rule_descriptors,\n",
    "    parser_id=Stack.IPV6_UDP_COAP\n",
    ")\n",
    "print(schc_context)\n",
    "\n",
    "statistics: ContextStatistics = evaluate(context=schc_context, templates=all_templates, packets=all_packets, match_strategy=MatchStrategy.BEST)\n",
    "print(context_statistics_as_ascii_table(statistics))"
   ]
  }
 ],
 "metadata": {
  "kernelspec": {
   "display_name": ".venv",
   "language": "python",
   "name": "python3"
  },
  "language_info": {
   "codemirror_mode": {
    "name": "ipython",
    "version": 3
   },
   "file_extension": ".py",
   "mimetype": "text/x-python",
   "name": "python",
   "nbconvert_exporter": "python",
   "pygments_lexer": "ipython3",
   "version": "3.10.12"
  }
 },
 "nbformat": 4,
 "nbformat_minor": 2
}
